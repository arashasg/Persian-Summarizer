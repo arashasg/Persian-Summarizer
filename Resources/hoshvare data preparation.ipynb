{
  "nbformat": 4,
  "nbformat_minor": 0,
  "metadata": {
    "colab": {
      "name": "Untitled31.ipynb",
      "provenance": []
    },
    "kernelspec": {
      "name": "python3",
      "display_name": "Python 3"
    },
    "language_info": {
      "name": "python"
    }
  },
  "cells": [
    {
      "cell_type": "code",
      "execution_count": null,
      "metadata": {
        "id": "8rZnQrUUtimY"
      },
      "outputs": [],
      "source": [
        "!pip install gdown"
      ]
    },
    {
      "cell_type": "code",
      "source": [
        "!pip install hazm"
      ],
      "metadata": {
        "id": "h8H15Vo2CPZC"
      },
      "execution_count": null,
      "outputs": []
    },
    {
      "cell_type": "code",
      "source": [
        "!gdown \"https://drive.google.com/uc?id=16OgJ_OrfzUF_i3ftLjFn9kpcyoi7UJeO\"\n",
        "!unzip \"/content/pn_summary.zip\"\n",
        "!rm \"/content/pn_summary.zip\""
      ],
      "metadata": {
        "id": "716QgbAquh6l"
      },
      "execution_count": null,
      "outputs": []
    },
    {
      "cell_type": "code",
      "source": [
        "import pandas as pd\n",
        "import numpy as np\n",
        "import seaborn as sns\n",
        "import matplotlib.pyplot as plt\n",
        "\n",
        "from hazm import word_tokenize"
      ],
      "metadata": {
        "id": "i_gI-0Douqx4"
      },
      "execution_count": 12,
      "outputs": []
    },
    {
      "cell_type": "code",
      "source": [
        "train_data = pd.read_csv(\"/content/pn_summary/train.csv\", delimiter=\"\\t\")\n",
        "validation_data = pd.read_csv(\"/content/pn_summary/dev.csv\", delimiter = \"\\t\")\n",
        "test_data = pd.read_csv(\"/content/pn_summary/test.csv\", delimiter = \"\\t\")\n",
        "data_df = pd.concat([train_data, validation_data, test_data])"
      ],
      "metadata": {
        "id": "8ecQYSucwbKp"
      },
      "execution_count": null,
      "outputs": []
    },
    {
      "cell_type": "code",
      "source": [
        "data_df.shape"
      ],
      "metadata": {
        "id": "XLvlU9jNxEkq"
      },
      "execution_count": null,
      "outputs": []
    },
    {
      "cell_type": "code",
      "source": [
        "data_df[\"Summarization_Lengh\"] = data_df['summary'].apply(lambda sent: len(word_tokenize(sent)))\n",
        "data_df[\"News_Length\"] = data_df['article'].apply(lambda sent: len(word_tokenize(sent)))"
      ],
      "metadata": {
        "id": "7z5U2E9qK0aw"
      },
      "execution_count": null,
      "outputs": []
    },
    {
      "cell_type": "code",
      "source": [
        "data_df.rename(columns = {'article':'News', 'summary':'Summarization'}, inplace = True)"
      ],
      "metadata": {
        "id": "wkJkirThPL5V"
      },
      "execution_count": null,
      "outputs": []
    },
    {
      "cell_type": "code",
      "source": [
        "plt.figure(figsize=(16, 26))\n",
        "\n",
        "sns.displot(data_df.Summarization_Lengh)"
      ],
      "metadata": {
        "id": "bjXYnzxvCNKu"
      },
      "execution_count": null,
      "outputs": []
    },
    {
      "cell_type": "code",
      "source": [
        ""
      ],
      "metadata": {
        "id": "1CAY343QE0me"
      },
      "execution_count": null,
      "outputs": []
    }
  ]
}